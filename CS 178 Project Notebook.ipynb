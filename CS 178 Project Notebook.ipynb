{
 "cells": [
  {
   "cell_type": "markdown",
   "id": "surgical-jonathan",
   "metadata": {},
   "source": [
    "## Data Download"
   ]
  },
  {
   "cell_type": "raw",
   "id": "former-swedish",
   "metadata": {},
   "source": [
    "!rm -rf fashion-mnist &&\\\n",
    "    git clone https://github.com/zalandoresearch/fashion-mnist &&\\\n",
    "    gzip -d fashion-mnist/data/fashion/*.gz\n",
    "from sys import executable\n",
    "!{executable} -m pip install idx2numpy"
   ]
  },
  {
   "cell_type": "markdown",
   "id": "returning-apartment",
   "metadata": {},
   "source": [
    "## Imports and Setup"
   ]
  },
  {
   "cell_type": "code",
   "execution_count": 2,
   "id": "capital-rebate",
   "metadata": {},
   "outputs": [],
   "source": [
    "import idx2numpy # https://pypi.org/project/idx2numpy/\n",
    "import numpy as np\n",
    "np.random.seed(0)\n",
    "np.set_printoptions(linewidth=200)\n",
    "import matplotlib.pyplot as plt\n",
    "\n",
    "from glob import glob\n",
    "\n",
    "PATH = 'fashion-mnist/data/fashion/'\n",
    "DICT = {\n",
    "    0: 't-shirt',\n",
    "    1: 'trouser',\n",
    "    2: 'pullover',\n",
    "    3: 'dress',\n",
    "    4: 'coat',\n",
    "    5: 'sandal',\n",
    "    6: 'shirt',\n",
    "    7: 'sneaker',\n",
    "    8: 'bag',\n",
    "    9: 'ankle boot'\n",
    "}"
   ]
  },
  {
   "cell_type": "markdown",
   "id": "proved-halifax",
   "metadata": {},
   "source": [
    "## Data preparation"
   ]
  },
  {
   "cell_type": "code",
   "execution_count": 3,
   "id": "eight-tanzania",
   "metadata": {},
   "outputs": [],
   "source": [
    "data = {}\n",
    "for file, label in zip(sorted(glob(PATH+'*')),\n",
    "                ['test_images', 'test_labels',\n",
    "                 'train_images', 'train_labels']):\n",
    "    data[label] = idx2numpy.convert_from_file(file)"
   ]
  },
  {
   "cell_type": "markdown",
   "id": "known-aruba",
   "metadata": {},
   "source": [
    "## 1. Data exploration"
   ]
  },
  {
   "cell_type": "code",
   "execution_count": 4,
   "id": "civic-medicaid",
   "metadata": {},
   "outputs": [
    {
     "name": "stdout",
     "output_type": "stream",
     "text": [
      "test_images shape: (10000, 28, 28)\n",
      "test_labels shape: (10000,)\n",
      "train_images shape: (60000, 28, 28)\n",
      "train_labels shape: (60000,)\n"
     ]
    }
   ],
   "source": [
    "for key, value in data.items():\n",
    "    print(f'{key} shape: {value.shape}')"
   ]
  },
  {
   "cell_type": "code",
   "execution_count": 5,
   "id": "interracial-sodium",
   "metadata": {},
   "outputs": [
    {
     "name": "stdout",
     "output_type": "stream",
     "text": [
      "ankle boot\n"
     ]
    },
    {
     "data": {
      "image/png": "[encoded data removed]",
      "text/plain": [
       "<Figure size 432x288 with 1 Axes>"
      ]
     },
     "metadata": {
      "needs_background": "light"
     },
     "output_type": "display_data"
    }
   ],
   "source": [
    "print(DICT[data['train_labels'][0]])\n",
    "plt.imshow(data['train_images'][0], cmap='gray')\n",
    "plt.show()"
   ]
  },
  {
   "cell_type": "markdown",
   "id": "arranged-austin",
   "metadata": {},
   "source": [
    "## 3. Data preprocessing"
   ]
  },
  {
   "cell_type": "code",
   "execution_count": 6,
   "id": "complex-sponsorship",
   "metadata": {},
   "outputs": [],
   "source": [
    "# define training and testing arrays\n",
    "Xtr = data['train_images']\n",
    "Ytr = data['train_labels']\n",
    "Xte = data['test_images']\n",
    "Yte = data['test_labels']\n",
    "\n",
    "\n",
    "# preprocessing lambda functions\n",
    "keys = np.random.permutation(len(Xtr))\n",
    "shuffle = lambda X, keys: X[keys]\n",
    "scale = lambda X: (X.astype(np.float32) - 127.5) / 127.5\n",
    "flat = lambda X: X.reshape(X.shape[0], -1)\n",
    "\n",
    "\n",
    "# preprocess arrays\n",
    "Xtr = shuffle(Xtr, keys)\n",
    "Ytr = shuffle(Ytr, keys)\n",
    "\n",
    "Xtr = scale(Xtr)\n",
    "Xte = scale(Xte)\n",
    "\n",
    "Xtr = flat(Xtr)\n",
    "Xte = flat(Xte)"
   ]
  },
  {
   "cell_type": "code",
   "execution_count": 7,
   "id": "fitting-renaissance",
   "metadata": {},
   "outputs": [
    {
     "name": "stdout",
     "output_type": "stream",
     "text": [
      "t-shirt\n"
     ]
    },
    {
     "data": {
      "image/png": "[encoded data removed]",
      "text/plain": [
       "<Figure size 432x288 with 1 Axes>"
      ]
     },
     "metadata": {
      "needs_background": "light"
     },
     "output_type": "display_data"
    }
   ],
   "source": [
    "print(DICT[Ytr[0]])\n",
    "plt.imshow((Xtr[0].reshape(28, 28)), cmap='gray')\n",
    "plt.show()"
   ]
  },
  {
   "cell_type": "markdown",
   "id": "silent-slovenia",
   "metadata": {},
   "source": [
    "## 2. Fully Connected Neural Network"
   ]
  },
  {
   "cell_type": "code",
   "execution_count": 8,
   "id": "express-banana",
   "metadata": {},
   "outputs": [
    {
     "name": "stdout",
     "output_type": "stream",
     "text": [
      "\n",
      "We will use a fully connected neural network with 784 input neurons and 10 output neurons. Classification of an image dataset is a large-enough problem to warrant a neural network; however, we will experiment with different hidden layer sizes and numbers. \n",
      "\n"
     ]
    }
   ],
   "source": [
    "print(f\"\"\"\n",
    "We will use a fully connected neural network with {np.prod(data['train_images'][0].shape)} input neurons and {len(DICT)} output neurons. Classification of an image dataset is a large-enough problem to warrant a neural network; however, we will experiment with different hidden layer sizes and numbers. \n",
    "\"\"\")"
   ]
  },
  {
   "cell_type": "code",
   "execution_count": 9,
   "id": "entire-wagner",
   "metadata": {},
   "outputs": [],
   "source": [
    "from nn import *"
   ]
  },
  {
   "cell_type": "code",
   "execution_count": 10,
   "id": "independent-exhaust",
   "metadata": {
    "scrolled": true
   },
   "outputs": [
    {
     "name": "stdout",
     "output_type": "stream",
     "text": [
      "epoch: 1\n",
      "step: 0, acc: 0.109, loss: 2.303 (data_loss: 2.303, reg_loss: 0.000), lr: 0.001\n",
      "step: 100, acc: 0.758, loss: 0.650 (data_loss: 0.650, reg_loss: 0.000), lr: 0.0009090909090909091\n",
      "step: 200, acc: 0.789, loss: 0.599 (data_loss: 0.599, reg_loss: 0.000), lr: 0.0008333333333333334\n",
      "step: 300, acc: 0.820, loss: 0.436 (data_loss: 0.436, reg_loss: 0.000), lr: 0.0007692307692307692\n",
      "step: 400, acc: 0.836, loss: 0.451 (data_loss: 0.451, reg_loss: 0.000), lr: 0.0007142857142857143\n",
      "step: 468, acc: 0.854, loss: 0.412 (data_loss: 0.412, reg_loss: 0.000), lr: 0.000681198910081744\n",
      "training, acc: 0.775, loss: 0.616 (data_loss: 0.616, reg_loss: 0.000), lr: 0.000681198910081744\n",
      "validation, acc: 0.831, loss: 0.468\n",
      "epoch: 2\n",
      "step: 0, acc: 0.836, loss: 0.420 (data_loss: 0.420, reg_loss: 0.000), lr: 0.0006807351940095304\n",
      "step: 100, acc: 0.805, loss: 0.473 (data_loss: 0.473, reg_loss: 0.000), lr: 0.0006373486297004461\n",
      "step: 200, acc: 0.828, loss: 0.485 (data_loss: 0.485, reg_loss: 0.000), lr: 0.0005991611743559018\n",
      "step: 300, acc: 0.859, loss: 0.331 (data_loss: 0.331, reg_loss: 0.000), lr: 0.0005652911249293386\n",
      "step: 400, acc: 0.867, loss: 0.365 (data_loss: 0.365, reg_loss: 0.000), lr: 0.0005350454788657037\n",
      "step: 468, acc: 0.854, loss: 0.360 (data_loss: 0.360, reg_loss: 0.000), lr: 0.0005162622612287042\n",
      "training, acc: 0.850, loss: 0.412 (data_loss: 0.412, reg_loss: 0.000), lr: 0.0005162622612287042\n",
      "validation, acc: 0.840, loss: 0.437\n",
      "epoch: 3\n",
      "step: 0, acc: 0.883, loss: 0.382 (data_loss: 0.382, reg_loss: 0.000), lr: 0.0005159958720330237\n",
      "step: 100, acc: 0.828, loss: 0.430 (data_loss: 0.430, reg_loss: 0.000), lr: 0.0004906771344455348\n",
      "step: 200, acc: 0.844, loss: 0.427 (data_loss: 0.427, reg_loss: 0.000), lr: 0.0004677268475210477\n",
      "step: 300, acc: 0.883, loss: 0.291 (data_loss: 0.291, reg_loss: 0.000), lr: 0.00044682752457551384\n",
      "step: 400, acc: 0.867, loss: 0.329 (data_loss: 0.329, reg_loss: 0.000), lr: 0.00042771599657827206\n",
      "step: 468, acc: 0.865, loss: 0.316 (data_loss: 0.316, reg_loss: 0.000), lr: 0.0004156275976724854\n",
      "training, acc: 0.866, loss: 0.369 (data_loss: 0.369, reg_loss: 0.000), lr: 0.0004156275976724854\n",
      "validation, acc: 0.852, loss: 0.413\n",
      "epoch: 4\n",
      "step: 0, acc: 0.883, loss: 0.339 (data_loss: 0.339, reg_loss: 0.000), lr: 0.0004154549231408392\n",
      "step: 100, acc: 0.852, loss: 0.409 (data_loss: 0.409, reg_loss: 0.000), lr: 0.00039888312724371757\n",
      "step: 200, acc: 0.844, loss: 0.395 (data_loss: 0.395, reg_loss: 0.000), lr: 0.0003835826620636747\n",
      "step: 300, acc: 0.883, loss: 0.273 (data_loss: 0.273, reg_loss: 0.000), lr: 0.0003694126339120798\n",
      "step: 400, acc: 0.883, loss: 0.309 (data_loss: 0.309, reg_loss: 0.000), lr: 0.0003562522265764161\n",
      "step: 468, acc: 0.875, loss: 0.276 (data_loss: 0.276, reg_loss: 0.000), lr: 0.00034782608695652176\n",
      "training, acc: 0.875, loss: 0.343 (data_loss: 0.343, reg_loss: 0.000), lr: 0.00034782608695652176\n",
      "validation, acc: 0.863, loss: 0.382\n",
      "epoch: 5\n",
      "step: 0, acc: 0.898, loss: 0.296 (data_loss: 0.296, reg_loss: 0.000), lr: 0.0003477051460361613\n",
      "step: 100, acc: 0.859, loss: 0.395 (data_loss: 0.395, reg_loss: 0.000), lr: 0.00033602150537634406\n",
      "step: 200, acc: 0.859, loss: 0.366 (data_loss: 0.366, reg_loss: 0.000), lr: 0.00032509752925877764\n",
      "step: 300, acc: 0.891, loss: 0.261 (data_loss: 0.261, reg_loss: 0.000), lr: 0.00031486146095717883\n",
      "step: 400, acc: 0.891, loss: 0.292 (data_loss: 0.292, reg_loss: 0.000), lr: 0.00030525030525030525\n",
      "step: 468, acc: 0.875, loss: 0.250 (data_loss: 0.250, reg_loss: 0.000), lr: 0.0002990430622009569\n",
      "training, acc: 0.882, loss: 0.325 (data_loss: 0.325, reg_loss: 0.000), lr: 0.0002990430622009569\n",
      "validation, acc: 0.872, loss: 0.364\n",
      "epoch: 6\n",
      "step: 0, acc: 0.930, loss: 0.267 (data_loss: 0.267, reg_loss: 0.000), lr: 0.0002989536621823617\n",
      "step: 100, acc: 0.852, loss: 0.385 (data_loss: 0.385, reg_loss: 0.000), lr: 0.00029027576197387516\n",
      "step: 200, acc: 0.867, loss: 0.346 (data_loss: 0.346, reg_loss: 0.000), lr: 0.0002820874471086037\n",
      "step: 300, acc: 0.891, loss: 0.250 (data_loss: 0.250, reg_loss: 0.000), lr: 0.00027434842249657066\n",
      "step: 400, acc: 0.898, loss: 0.281 (data_loss: 0.281, reg_loss: 0.000), lr: 0.000267022696929239\n",
      "step: 468, acc: 0.885, loss: 0.236 (data_loss: 0.236, reg_loss: 0.000), lr: 0.00026226068712300026\n",
      "training, acc: 0.887, loss: 0.310 (data_loss: 0.310, reg_loss: 0.000), lr: 0.00026226068712300026\n",
      "validation, acc: 0.873, loss: 0.357\n",
      "epoch: 7\n",
      "step: 0, acc: 0.922, loss: 0.248 (data_loss: 0.248, reg_loss: 0.000), lr: 0.00026219192448872575\n",
      "step: 100, acc: 0.852, loss: 0.371 (data_loss: 0.371, reg_loss: 0.000), lr: 0.00025549310168625444\n",
      "step: 200, acc: 0.875, loss: 0.330 (data_loss: 0.330, reg_loss: 0.000), lr: 0.00024912805181863477\n",
      "step: 300, acc: 0.906, loss: 0.238 (data_loss: 0.238, reg_loss: 0.000), lr: 0.0002430724355858046\n",
      "step: 400, acc: 0.906, loss: 0.270 (data_loss: 0.270, reg_loss: 0.000), lr: 0.00023730422401518745\n",
      "step: 468, acc: 0.896, loss: 0.223 (data_loss: 0.223, reg_loss: 0.000), lr: 0.00023353573096683791\n",
      "training, acc: 0.891, loss: 0.298 (data_loss: 0.298, reg_loss: 0.000), lr: 0.00023353573096683791\n",
      "validation, acc: 0.875, loss: 0.352\n",
      "epoch: 8\n",
      "step: 0, acc: 0.922, loss: 0.235 (data_loss: 0.235, reg_loss: 0.000), lr: 0.00023348120476301658\n",
      "step: 100, acc: 0.852, loss: 0.356 (data_loss: 0.356, reg_loss: 0.000), lr: 0.00022815423226100847\n",
      "step: 200, acc: 0.891, loss: 0.315 (data_loss: 0.315, reg_loss: 0.000), lr: 0.0002230649118893598\n",
      "step: 300, acc: 0.906, loss: 0.230 (data_loss: 0.230, reg_loss: 0.000), lr: 0.00021819768710451667\n",
      "step: 400, acc: 0.891, loss: 0.264 (data_loss: 0.264, reg_loss: 0.000), lr: 0.00021353833013025838\n",
      "step: 468, acc: 0.906, loss: 0.210 (data_loss: 0.210, reg_loss: 0.000), lr: 0.00021048200378867611\n",
      "training, acc: 0.895, loss: 0.288 (data_loss: 0.288, reg_loss: 0.000), lr: 0.00021048200378867611\n",
      "validation, acc: 0.875, loss: 0.348\n",
      "epoch: 9\n",
      "step: 0, acc: 0.922, loss: 0.224 (data_loss: 0.224, reg_loss: 0.000), lr: 0.0002104377104377104\n",
      "step: 100, acc: 0.859, loss: 0.343 (data_loss: 0.343, reg_loss: 0.000), lr: 0.0002061005770816158\n",
      "step: 200, acc: 0.891, loss: 0.305 (data_loss: 0.305, reg_loss: 0.000), lr: 0.00020193861066235866\n",
      "step: 300, acc: 0.906, loss: 0.224 (data_loss: 0.224, reg_loss: 0.000), lr: 0.0001979414093428345\n",
      "step: 400, acc: 0.891, loss: 0.256 (data_loss: 0.256, reg_loss: 0.000), lr: 0.0001940993788819876\n",
      "step: 468, acc: 0.927, loss: 0.203 (data_loss: 0.203, reg_loss: 0.000), lr: 0.00019157088122605365\n",
      "training, acc: 0.899, loss: 0.280 (data_loss: 0.280, reg_loss: 0.000), lr: 0.00019157088122605365\n",
      "validation, acc: 0.876, loss: 0.344\n",
      "epoch: 10\n",
      "step: 0, acc: 0.914, loss: 0.215 (data_loss: 0.215, reg_loss: 0.000), lr: 0.0001915341888527102\n",
      "step: 100, acc: 0.859, loss: 0.328 (data_loss: 0.328, reg_loss: 0.000), lr: 0.00018793459875963167\n",
      "step: 200, acc: 0.891, loss: 0.297 (data_loss: 0.297, reg_loss: 0.000), lr: 0.00018446781036709093\n",
      "step: 300, acc: 0.914, loss: 0.218 (data_loss: 0.218, reg_loss: 0.000), lr: 0.00018112660749864155\n",
      "step: 400, acc: 0.898, loss: 0.250 (data_loss: 0.250, reg_loss: 0.000), lr: 0.00017790428749332856\n",
      "step: 468, acc: 0.927, loss: 0.195 (data_loss: 0.195, reg_loss: 0.000), lr: 0.00017577781683951485\n",
      "training, acc: 0.901, loss: 0.272 (data_loss: 0.272, reg_loss: 0.000), lr: 0.00017577781683951485\n",
      "validation, acc: 0.878, loss: 0.342\n",
      "epoch: 11\n",
      "step: 0, acc: 0.906, loss: 0.207 (data_loss: 0.207, reg_loss: 0.000), lr: 0.00017574692442882248\n",
      "step: 100, acc: 0.867, loss: 0.317 (data_loss: 0.317, reg_loss: 0.000), lr: 0.00017271157167530224\n",
      "step: 200, acc: 0.891, loss: 0.289 (data_loss: 0.289, reg_loss: 0.000), lr: 0.00016977928692699494\n",
      "step: 300, acc: 0.906, loss: 0.216 (data_loss: 0.216, reg_loss: 0.000), lr: 0.0001669449081803005\n",
      "step: 400, acc: 0.914, loss: 0.246 (data_loss: 0.246, reg_loss: 0.000), lr: 0.00016420361247947455\n",
      "step: 468, acc: 0.938, loss: 0.187 (data_loss: 0.187, reg_loss: 0.000), lr: 0.00016239038648911984\n",
      "training, acc: 0.904, loss: 0.266 (data_loss: 0.266, reg_loss: 0.000), lr: 0.00016239038648911984\n",
      "validation, acc: 0.878, loss: 0.340\n",
      "epoch: 12\n",
      "step: 0, acc: 0.914, loss: 0.199 (data_loss: 0.199, reg_loss: 0.000), lr: 0.0001623640201331385\n",
      "step: 100, acc: 0.883, loss: 0.308 (data_loss: 0.308, reg_loss: 0.000), lr: 0.00015976993129892953\n"
     ]
    },
    {
     "name": "stdout",
     "output_type": "stream",
     "text": [
      "step: 200, acc: 0.891, loss: 0.283 (data_loss: 0.283, reg_loss: 0.000), lr: 0.00015725743041358704\n",
      "step: 300, acc: 0.906, loss: 0.211 (data_loss: 0.211, reg_loss: 0.000), lr: 0.00015482272797646694\n",
      "step: 400, acc: 0.914, loss: 0.243 (data_loss: 0.243, reg_loss: 0.000), lr: 0.00015246226558926666\n",
      "step: 468, acc: 0.938, loss: 0.180 (data_loss: 0.180, reg_loss: 0.000), lr: 0.00015089784216085713\n",
      "training, acc: 0.906, loss: 0.260 (data_loss: 0.260, reg_loss: 0.000), lr: 0.00015089784216085713\n",
      "validation, acc: 0.878, loss: 0.338\n",
      "epoch: 13\n",
      "step: 0, acc: 0.914, loss: 0.193 (data_loss: 0.193, reg_loss: 0.000), lr: 0.00015087507543753772\n",
      "step: 100, acc: 0.891, loss: 0.301 (data_loss: 0.301, reg_loss: 0.000), lr: 0.00014863258026159336\n",
      "step: 200, acc: 0.898, loss: 0.276 (data_loss: 0.276, reg_loss: 0.000), lr: 0.00014645577035735208\n",
      "step: 300, acc: 0.906, loss: 0.207 (data_loss: 0.207, reg_loss: 0.000), lr: 0.0001443418013856813\n",
      "step: 400, acc: 0.922, loss: 0.242 (data_loss: 0.242, reg_loss: 0.000), lr: 0.0001422879908935686\n",
      "step: 468, acc: 0.938, loss: 0.176 (data_loss: 0.176, reg_loss: 0.000), lr: 0.00014092446448703494\n",
      "training, acc: 0.908, loss: 0.254 (data_loss: 0.254, reg_loss: 0.000), lr: 0.00014092446448703494\n",
      "validation, acc: 0.878, loss: 0.337\n",
      "epoch: 14\n",
      "step: 0, acc: 0.914, loss: 0.189 (data_loss: 0.189, reg_loss: 0.000), lr: 0.0001409046075806679\n",
      "step: 100, acc: 0.898, loss: 0.294 (data_loss: 0.294, reg_loss: 0.000), lr: 0.0001389467833819647\n",
      "step: 200, acc: 0.898, loss: 0.271 (data_loss: 0.271, reg_loss: 0.000), lr: 0.0001370426202548993\n",
      "step: 300, acc: 0.906, loss: 0.204 (data_loss: 0.204, reg_loss: 0.000), lr: 0.000135189941868325\n",
      "step: 400, acc: 0.914, loss: 0.240 (data_loss: 0.240, reg_loss: 0.000), lr: 0.00013338668800853677\n",
      "step: 468, acc: 0.948, loss: 0.171 (data_loss: 0.171, reg_loss: 0.000), lr: 0.00013218770654329146\n",
      "training, acc: 0.910, loss: 0.249 (data_loss: 0.249, reg_loss: 0.000), lr: 0.00013218770654329146\n",
      "validation, acc: 0.879, loss: 0.336\n",
      "epoch: 15\n",
      "step: 0, acc: 0.922, loss: 0.185 (data_loss: 0.185, reg_loss: 0.000), lr: 0.0001321702352630188\n",
      "step: 100, acc: 0.898, loss: 0.286 (data_loss: 0.286, reg_loss: 0.000), lr: 0.00013044612575006522\n",
      "step: 200, acc: 0.914, loss: 0.266 (data_loss: 0.266, reg_loss: 0.000), lr: 0.0001287664177182591\n",
      "step: 300, acc: 0.906, loss: 0.201 (data_loss: 0.201, reg_loss: 0.000), lr: 0.0001271294177472667\n",
      "step: 400, acc: 0.914, loss: 0.238 (data_loss: 0.238, reg_loss: 0.000), lr: 0.00012553351744915893\n",
      "step: 468, acc: 0.948, loss: 0.165 (data_loss: 0.165, reg_loss: 0.000), lr: 0.00012447099825740605\n",
      "training, acc: 0.911, loss: 0.245 (data_loss: 0.245, reg_loss: 0.000), lr: 0.00012447099825740605\n",
      "validation, acc: 0.879, loss: 0.335\n",
      "epoch: 16\n",
      "step: 0, acc: 0.922, loss: 0.181 (data_loss: 0.181, reg_loss: 0.000), lr: 0.00012445550715619168\n",
      "step: 100, acc: 0.898, loss: 0.279 (data_loss: 0.279, reg_loss: 0.000), lr: 0.0001229256299938537\n",
      "step: 200, acc: 0.914, loss: 0.261 (data_loss: 0.261, reg_loss: 0.000), lr: 0.00012143290831815424\n",
      "step: 300, acc: 0.906, loss: 0.199 (data_loss: 0.199, reg_loss: 0.000), lr: 0.00011997600479904018\n",
      "step: 400, acc: 0.906, loss: 0.237 (data_loss: 0.237, reg_loss: 0.000), lr: 0.00011855364552459988\n",
      "step: 468, acc: 0.958, loss: 0.160 (data_loss: 0.160, reg_loss: 0.000), lr: 0.00011760555098200635\n",
      "training, acc: 0.912, loss: 0.241 (data_loss: 0.241, reg_loss: 0.000), lr: 0.00011760555098200635\n",
      "validation, acc: 0.879, loss: 0.334\n",
      "epoch: 17\n",
      "step: 0, acc: 0.930, loss: 0.177 (data_loss: 0.177, reg_loss: 0.000), lr: 0.00011759172154280338\n",
      "step: 100, acc: 0.898, loss: 0.274 (data_loss: 0.274, reg_loss: 0.000), lr: 0.00011622501162250119\n",
      "step: 200, acc: 0.914, loss: 0.256 (data_loss: 0.256, reg_loss: 0.000), lr: 0.00011488970588235294\n",
      "step: 300, acc: 0.906, loss: 0.196 (data_loss: 0.196, reg_loss: 0.000), lr: 0.00011358473421172194\n",
      "step: 400, acc: 0.906, loss: 0.236 (data_loss: 0.236, reg_loss: 0.000), lr: 0.00011230907457322552\n",
      "step: 468, acc: 0.958, loss: 0.156 (data_loss: 0.156, reg_loss: 0.000), lr: 0.00011145786892554613\n",
      "training, acc: 0.914, loss: 0.237 (data_loss: 0.237, reg_loss: 0.000), lr: 0.00011145786892554613\n",
      "validation, acc: 0.879, loss: 0.333\n",
      "epoch: 18\n",
      "step: 0, acc: 0.930, loss: 0.173 (data_loss: 0.173, reg_loss: 0.000), lr: 0.00011144544745347155\n",
      "step: 100, acc: 0.898, loss: 0.269 (data_loss: 0.269, reg_loss: 0.000), lr: 0.00011021712774165104\n",
      "step: 200, acc: 0.914, loss: 0.253 (data_loss: 0.253, reg_loss: 0.000), lr: 0.00010901558922925978\n",
      "step: 300, acc: 0.914, loss: 0.194 (data_loss: 0.194, reg_loss: 0.000), lr: 0.00010783996549121104\n",
      "step: 400, acc: 0.906, loss: 0.235 (data_loss: 0.235, reg_loss: 0.000), lr: 0.0001066894270777766\n",
      "step: 468, acc: 0.958, loss: 0.152 (data_loss: 0.152, reg_loss: 0.000), lr: 0.00010592098294672174\n",
      "training, acc: 0.915, loss: 0.233 (data_loss: 0.233, reg_loss: 0.000), lr: 0.00010592098294672174\n",
      "validation, acc: 0.880, loss: 0.332\n",
      "epoch: 19\n",
      "step: 0, acc: 0.938, loss: 0.169 (data_loss: 0.169, reg_loss: 0.000), lr: 0.00010590976488032195\n",
      "step: 100, acc: 0.898, loss: 0.264 (data_loss: 0.264, reg_loss: 0.000), lr: 0.0001047998323202683\n",
      "step: 200, acc: 0.922, loss: 0.249 (data_loss: 0.249, reg_loss: 0.000), lr: 0.00010371292263015973\n",
      "step: 300, acc: 0.914, loss: 0.191 (data_loss: 0.191, reg_loss: 0.000), lr: 0.00010264832683227263\n",
      "step: 400, acc: 0.906, loss: 0.232 (data_loss: 0.232, reg_loss: 0.000), lr: 0.0001016053647632595\n",
      "step: 468, acc: 0.958, loss: 0.148 (data_loss: 0.148, reg_loss: 0.000), lr: 0.00010090817356205853\n",
      "training, acc: 0.916, loss: 0.230 (data_loss: 0.230, reg_loss: 0.000), lr: 0.00010090817356205853\n",
      "validation, acc: 0.881, loss: 0.332\n",
      "epoch: 20\n",
      "step: 0, acc: 0.938, loss: 0.166 (data_loss: 0.166, reg_loss: 0.000), lr: 0.00010089799212995662\n",
      "step: 100, acc: 0.898, loss: 0.260 (data_loss: 0.260, reg_loss: 0.000), lr: 9.989012086704624e-05\n",
      "step: 200, acc: 0.922, loss: 0.246 (data_loss: 0.246, reg_loss: 0.000), lr: 9.89021857383048e-05\n",
      "step: 300, acc: 0.922, loss: 0.188 (data_loss: 0.188, reg_loss: 0.000), lr: 9.793360101850946e-05\n",
      "step: 400, acc: 0.906, loss: 0.230 (data_loss: 0.230, reg_loss: 0.000), lr: 9.698380370478129e-05\n",
      "step: 468, acc: 0.948, loss: 0.144 (data_loss: 0.144, reg_loss: 0.000), lr: 9.634839579920996e-05\n",
      "training, acc: 0.917, loss: 0.226 (data_loss: 0.226, reg_loss: 0.000), lr: 9.634839579920996e-05\n",
      "validation, acc: 0.881, loss: 0.331\n"
     ]
    }
   ],
   "source": [
    "# initialize model\n",
    "model = Model()\n",
    "\n",
    "# add layers\n",
    "model.add(Layer_Dense(Xtr.shape[1], 128))\n",
    "model.add(Activation_ReLU())\n",
    "model.add(Layer_Dense(128, 256))\n",
    "model.add(Activation_ReLU())\n",
    "model.add(Layer_Dense(256, 10))\n",
    "# model.add(Activation_ReLU())\n",
    "# model.add(Layer_Dense(128, 10))\n",
    "model.add(Activation_Softmax())\n",
    "\n",
    "# set model parameters\n",
    "model.set(\n",
    "    loss=Loss_CategoricalCrossentropy(),\n",
    "    optimizer=Optimizer_Adam(decay=1e-3),\n",
    "    accuracy=Accuracy_Categorical()\n",
    ")\n",
    "\n",
    "# finalize model\n",
    "model.finalize()\n",
    "\n",
    "# train model\n",
    "model.train(Xtr, Ytr, validation_data=(Xte, Yte),\n",
    "            epochs=20, batch_size=128, print_every=100)"
   ]
  },
  {
   "cell_type": "markdown",
   "id": "sweet-contamination",
   "metadata": {},
   "source": [
    "## 4. Performance validation"
   ]
  },
  {
   "cell_type": "code",
   "execution_count": 11,
   "id": "neither-compression",
   "metadata": {
    "scrolled": true
   },
   "outputs": [
    {
     "name": "stdout",
     "output_type": "stream",
     "text": [
      "validation, acc: 0.881, loss: 0.331\n"
     ]
    }
   ],
   "source": [
    "model.evaluate(Xte, Yte)"
   ]
  }
 ],
 "metadata": {
  "kernelspec": {
   "display_name": "Python 3",
   "language": "python",
   "name": "python3"
  },
  "language_info": {
   "codemirror_mode": {
    "name": "ipython",
    "version": 3
   },
   "file_extension": ".py",
   "mimetype": "text/x-python",
   "name": "python",
   "nbconvert_exporter": "python",
   "pygments_lexer": "ipython3",
   "version": "3.9.2"
  }
 },
 "nbformat": 4,
 "nbformat_minor": 5
}
